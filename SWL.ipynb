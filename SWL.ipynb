{
  "nbformat": 4,
  "nbformat_minor": 0,
  "metadata": {
    "colab": {
      "name": "arduino_tinyml_workshop.ipynb",
      "provenance": [],
      "include_colab_link": true
    },
    "kernelspec": {
      "name": "python3",
      "display_name": "Python 3"
    }
  },
  "cells": [
    {
      "cell_type": "markdown",
      "metadata": {
        "id": "view-in-github",
        "colab_type": "text"
      },
      "source": [
        "<a href=\"https://colab.research.google.com/github/Saddamos91/ArduinoTensorFlowLiteTutorials/blob/master/SWL.ipynb\" target=\"_parent\"><img src=\"https://colab.research.google.com/assets/colab-badge.svg\" alt=\"Open In Colab\"/></a>"
      ]
    },
    {
      "cell_type": "markdown",
      "metadata": {
        "id": "f92-4Hjy7kA8"
      },
      "source": [
        "<a href=\"https://www.arduino.cc/\"><img src=\"https://raw.githubusercontent.com/sandeepmistry/aimldevfest-workshop-2019/master/images/Arduino_logo_R_highquality.png\" width=200/></a>\n",
        "# Tiny ML on Arduino\n",
        "## Gesture recognition tutorial\n",
        " * Sandeep Mistry - Arduino\n",
        " * Don Coleman - Chariot Solutions\n",
        "\n",
        " \n",
        "https://github.com/arduino/ArduinoTensorFlowLiteTutorials/"
      ]
    },
    {
      "cell_type": "markdown",
      "metadata": {
        "id": "uvDA8AK7QOq-"
      },
      "source": [
        "## Setup Python Environment \n",
        "\n",
        "The next cell sets up the dependencies in required for the notebook, run it."
      ]
    },
    {
      "cell_type": "code",
      "metadata": {
        "id": "Y2gs-PL4xDkZ",
        "colab": {
          "base_uri": "https://localhost:8080/"
        },
        "outputId": "ee5128fd-091f-4459-dccc-63b2ff3fe9e0"
      },
      "source": [
        "# Setup environment\n",
        "!apt-get -qq install xxd\n",
        "!pip install pandas numpy matplotlib\n",
        "!pip install tensorflow==2.0.0-rc1"
      ],
      "execution_count": 1,
      "outputs": [
        {
          "output_type": "stream",
          "name": "stdout",
          "text": [
            "Looking in indexes: https://pypi.org/simple, https://us-python.pkg.dev/colab-wheels/public/simple/\n",
            "Requirement already satisfied: pandas in /usr/local/lib/python3.9/dist-packages (1.5.3)\n",
            "Requirement already satisfied: numpy in /usr/local/lib/python3.9/dist-packages (1.22.4)\n",
            "Requirement already satisfied: matplotlib in /usr/local/lib/python3.9/dist-packages (3.7.1)\n",
            "Requirement already satisfied: python-dateutil>=2.8.1 in /usr/local/lib/python3.9/dist-packages (from pandas) (2.8.2)\n",
            "Requirement already satisfied: pytz>=2020.1 in /usr/local/lib/python3.9/dist-packages (from pandas) (2022.7.1)\n",
            "Requirement already satisfied: pillow>=6.2.0 in /usr/local/lib/python3.9/dist-packages (from matplotlib) (8.4.0)\n",
            "Requirement already satisfied: fonttools>=4.22.0 in /usr/local/lib/python3.9/dist-packages (from matplotlib) (4.39.3)\n",
            "Requirement already satisfied: pyparsing>=2.3.1 in /usr/local/lib/python3.9/dist-packages (from matplotlib) (3.0.9)\n",
            "Requirement already satisfied: kiwisolver>=1.0.1 in /usr/local/lib/python3.9/dist-packages (from matplotlib) (1.4.4)\n",
            "Requirement already satisfied: contourpy>=1.0.1 in /usr/local/lib/python3.9/dist-packages (from matplotlib) (1.0.7)\n",
            "Requirement already satisfied: packaging>=20.0 in /usr/local/lib/python3.9/dist-packages (from matplotlib) (23.0)\n",
            "Requirement already satisfied: cycler>=0.10 in /usr/local/lib/python3.9/dist-packages (from matplotlib) (0.11.0)\n",
            "Requirement already satisfied: importlib-resources>=3.2.0 in /usr/local/lib/python3.9/dist-packages (from matplotlib) (5.12.0)\n",
            "Requirement already satisfied: zipp>=3.1.0 in /usr/local/lib/python3.9/dist-packages (from importlib-resources>=3.2.0->matplotlib) (3.15.0)\n",
            "Requirement already satisfied: six>=1.5 in /usr/local/lib/python3.9/dist-packages (from python-dateutil>=2.8.1->pandas) (1.16.0)\n",
            "Looking in indexes: https://pypi.org/simple, https://us-python.pkg.dev/colab-wheels/public/simple/\n",
            "\u001b[31mERROR: Could not find a version that satisfies the requirement tensorflow==2.0.0-rc1 (from versions: 2.5.0, 2.5.1, 2.5.2, 2.5.3, 2.6.0rc0, 2.6.0rc1, 2.6.0rc2, 2.6.0, 2.6.1, 2.6.2, 2.6.3, 2.6.4, 2.6.5, 2.7.0rc0, 2.7.0rc1, 2.7.0, 2.7.1, 2.7.2, 2.7.3, 2.7.4, 2.8.0rc0, 2.8.0rc1, 2.8.0, 2.8.1, 2.8.2, 2.8.3, 2.8.4, 2.9.0rc0, 2.9.0rc1, 2.9.0rc2, 2.9.0, 2.9.1, 2.9.2, 2.9.3, 2.10.0rc0, 2.10.0rc1, 2.10.0rc2, 2.10.0rc3, 2.10.0, 2.10.1, 2.11.0rc0, 2.11.0rc1, 2.11.0rc2, 2.11.0, 2.11.1, 2.12.0rc0, 2.12.0rc1, 2.12.0)\u001b[0m\u001b[31m\n",
            "\u001b[0m\u001b[31mERROR: No matching distribution found for tensorflow==2.0.0-rc1\u001b[0m\u001b[31m\n",
            "\u001b[0m"
          ]
        }
      ]
    },
    {
      "cell_type": "markdown",
      "metadata": {
        "id": "9lwkeshJk7dg"
      },
      "source": [
        "# Upload Data\n",
        "\n",
        "1. Open the panel on the left side of Colab by clicking on the __>__\n",
        "1. Select the files tab\n",
        "1. Drag `punch.csv` and `flex.csv` files from your computer to the tab to upload them into colab."
      ]
    },
    {
      "cell_type": "markdown",
      "metadata": {
        "id": "Eh9yve14gUyD"
      },
      "source": [
        "# Graph Data (optional)\n",
        "\n",
        "We'll graph the input files on two separate graphs, acceleration and gyroscope, as each data set has different units and scale."
      ]
    },
    {
      "cell_type": "code",
      "metadata": {
        "id": "I65ukChEgyNp"
      },
      "source": [
        "# Import libraries\n",
        "import pandas as pd\n",
        "import numpy as np\n",
        "from sklearn.model_selection import train_test_split\n",
        "from sklearn.preprocessing import StandardScaler\n",
        "from sklearn.decomposition import PCA\n",
        "from keras.models import Sequential\n",
        "from keras.layers import Dense, Dropout\n",
        "from keras.callbacks import EarlyStopping\n",
        "from sklearn.metrics import accuracy_score\n",
        "from sklearn.metrics import confusion_matrix\n",
        "from sklearn.metrics import classification_report\n",
        "import matplotlib.pyplot as plt\n",
        "\n",
        "# Load the data\n",
        "data = pd.read_csv(\"Data-SWl.csv\")\n",
        "\n",
        "# Preprocessing\n",
        "data.dropna(inplace=True) # drop any NaN values\n",
        "X = data.drop([\"time\", \"phase\"], axis=1) # exclude the time and class columns\n",
        "y = data[\"phase\"]\n",
        "\n",
        "\n",
        "# Define window size and stride\n",
        "window_size = 200\n",
        "stride = 1\n",
        "\n",
        "# Split the time series data into windows\n",
        "X_windows = []\n",
        "y_windows = []\n",
        "for i in range(0, len(X) - window_size + 1, stride):\n",
        "    X_window = X.iloc[i:i + window_size, :]\n",
        "    y_window = y.iloc[i:i + window_size]\n",
        "    \n",
        "    # Apply feature engineering on each window\n",
        "    rms_vibration = np.sqrt(np.mean(X_window.iloc[:, [2, 3, 4]]**2, axis=1))\n",
        "    fft_rms_vibration = np.abs(np.fft.fft(rms_vibration))\n",
        "    fft_rms_vibration_av = np.average(fft_rms_vibration, axis=0)\n",
        "    gyro_data = X_window.iloc[:, [8, 9, 10]]\n",
        "    mag_data = X_window.iloc[:, [11, 12, 13]]\n",
        "    accel_data = X_window.iloc[:, [5, 6, 7]]\n",
        "    roll = np.arctan2(accel_data.iloc[:, 1], accel_data.iloc[:, 2])\n",
        "    pitch = np.arctan2(-accel_data.iloc[:, 0], np.sqrt(accel_data.iloc[:, 1]**2 + accel_data.iloc[:, 2]**2))\n",
        "    yaw = np.arctan2(gyro_data.iloc[:, 1], gyro_data.iloc[:, 2])\n",
        "    roll_av = np.average(roll, axis=0)\n",
        "    pitch_av = np.average(pitch, axis=0)\n",
        "    yaw_av = np.average(yaw, axis=0)\n",
        "    mean_temp = X_window[\"temperature\"].mean()\n",
        "    mean_pressure = X_window[\"pressure\"].mean()\n",
        "    \n",
        "    \n",
        "\n",
        "    # Combine the features\n",
        "    X_window_features = [fft_rms_vibration_av, roll_av, pitch_av, yaw_av, mean_temp, mean_pressure]\n",
        "    \n",
        "    X_windows.append(X_window_features)\n",
        "    y_windows.append(y_window.iloc[0])\n",
        "\n",
        "\n",
        "\n",
        "# Convert the windows to NumPy arrays\n",
        "X_windows = np.array(X_windows)\n",
        "y_windows = np.array(y_windows)\n",
        "\n",
        "# Train/Test Split\n",
        "X_train, X_test, y_train, y_test = train_test_split(X_windows, y_windows, test_size=0.2, random_state=42)\n",
        "\n",
        "# Scale the data\n",
        "scaler = StandardScaler()\n",
        "X_train_scaled = scaler.fit_transform(X_train)\n",
        "X_test_scaled = scaler.transform(X_test)\n"
      ],
      "execution_count": 2,
      "outputs": []
    },
    {
      "cell_type": "markdown",
      "metadata": {
        "id": "kSxUeYPNQbOg"
      },
      "source": [
        "# Train Neural Network\n",
        "\n",
        "\n",
        "\n"
      ]
    },
    {
      "cell_type": "markdown",
      "metadata": {
        "id": "Gxk414PU3oy3"
      },
      "source": [
        "## Parse and prepare the data\n",
        "\n",
        "The next cell parses the csv files and transforms them to a format that will be used to train the fully connected neural network.\n",
        "\n",
        "Update the `GESTURES` list with the gesture data you've collected in `.csv` format.\n"
      ]
    },
    {
      "cell_type": "code",
      "metadata": {
        "id": "AGChd1FAk5_j"
      },
      "source": [],
      "execution_count": null,
      "outputs": []
    },
    {
      "cell_type": "markdown",
      "metadata": {
        "id": "d5_61831d5AM"
      },
      "source": [
        "## Randomize and split the input and output pairs for training\n",
        "\n",
        "Randomly split input and output pairs into sets of data: 60% for training, 20% for validation, and 20% for testing.\n",
        "\n",
        "  - the training set is used to train the model\n",
        "  - the validation set is used to measure how well the model is performing during training\n",
        "  - the testing set is used to test the model after training"
      ]
    },
    {
      "cell_type": "code",
      "metadata": {
        "id": "QfNEmUZMeIEx"
      },
      "source": [],
      "execution_count": null,
      "outputs": []
    },
    {
      "cell_type": "markdown",
      "metadata": {
        "id": "a9g2n41p24nR"
      },
      "source": [
        "## Build & Train the Model\n",
        "\n",
        "Build and train a [TensorFlow](https://www.tensorflow.org) model using the high-level [Keras](https://www.tensorflow.org/guide/keras) API."
      ]
    },
    {
      "cell_type": "code",
      "metadata": {
        "id": "kGNFa-lX24Qo",
        "colab": {
          "base_uri": "https://localhost:8080/"
        },
        "outputId": "4475f35a-5b66-41b5-a2d4-83a83d48ae8a"
      },
      "source": [
        "# Define the model\n",
        "model = Sequential()\n",
        "model.add(Dense(32, activation='relu', input_shape=(X_train.shape[1],)))\n",
        "model.add(Dropout(0.2))\n",
        "model.add(Dense(16, activation='relu'))\n",
        "model.add(Dropout(0.2))\n",
        "model.add(Dense(3, activation='softmax'))\n",
        "\n",
        "# Compile the model\n",
        "model.compile(loss='sparse_categorical_crossentropy', optimizer='adam', metrics=['accuracy'])\n",
        "\n",
        "# Fit the model\n",
        "early_stopping = EarlyStopping(patience=10, verbose=1)\n",
        "history = model.fit(X_train_scaled, y_train, epochs=100, batch_size=32,validation_data=(X_test_scaled, y_test), callbacks=[early_stopping])\n",
        "\n"
      ],
      "execution_count": 8,
      "outputs": [
        {
          "output_type": "stream",
          "name": "stdout",
          "text": [
            "Epoch 1/100\n",
            "445/445 [==============================] - 3s 3ms/step - loss: 0.3232 - accuracy: 0.9021 - val_loss: 0.0327 - val_accuracy: 0.9947\n",
            "Epoch 2/100\n",
            "445/445 [==============================] - 1s 3ms/step - loss: 0.0482 - accuracy: 0.9907 - val_loss: 0.0077 - val_accuracy: 0.9992\n",
            "Epoch 3/100\n",
            "445/445 [==============================] - 1s 2ms/step - loss: 0.0231 - accuracy: 0.9947 - val_loss: 0.0058 - val_accuracy: 0.9992\n",
            "Epoch 4/100\n",
            "445/445 [==============================] - 1s 3ms/step - loss: 0.0164 - accuracy: 0.9964 - val_loss: 0.0044 - val_accuracy: 0.9992\n",
            "Epoch 5/100\n",
            "445/445 [==============================] - 1s 2ms/step - loss: 0.0115 - accuracy: 0.9976 - val_loss: 0.0050 - val_accuracy: 0.9992\n",
            "Epoch 6/100\n",
            "445/445 [==============================] - 1s 3ms/step - loss: 0.0116 - accuracy: 0.9971 - val_loss: 0.0044 - val_accuracy: 0.9994\n",
            "Epoch 7/100\n",
            "445/445 [==============================] - 2s 3ms/step - loss: 0.0097 - accuracy: 0.9974 - val_loss: 0.0037 - val_accuracy: 0.9994\n",
            "Epoch 8/100\n",
            "445/445 [==============================] - 1s 3ms/step - loss: 0.0080 - accuracy: 0.9984 - val_loss: 0.0033 - val_accuracy: 0.9994\n",
            "Epoch 9/100\n",
            "445/445 [==============================] - 1s 2ms/step - loss: 0.0057 - accuracy: 0.9989 - val_loss: 0.0034 - val_accuracy: 0.9994\n",
            "Epoch 10/100\n",
            "445/445 [==============================] - 1s 2ms/step - loss: 0.0061 - accuracy: 0.9986 - val_loss: 0.0032 - val_accuracy: 0.9994\n",
            "Epoch 11/100\n",
            "445/445 [==============================] - 1s 2ms/step - loss: 0.0053 - accuracy: 0.9984 - val_loss: 0.0034 - val_accuracy: 0.9994\n",
            "Epoch 12/100\n",
            "445/445 [==============================] - 1s 2ms/step - loss: 0.0054 - accuracy: 0.9982 - val_loss: 0.0030 - val_accuracy: 0.9994\n",
            "Epoch 13/100\n",
            "445/445 [==============================] - 1s 2ms/step - loss: 0.0058 - accuracy: 0.9982 - val_loss: 0.0029 - val_accuracy: 0.9994\n",
            "Epoch 14/100\n",
            "445/445 [==============================] - 1s 3ms/step - loss: 0.0037 - accuracy: 0.9989 - val_loss: 0.0032 - val_accuracy: 0.9994\n",
            "Epoch 15/100\n",
            "445/445 [==============================] - 1s 2ms/step - loss: 0.0041 - accuracy: 0.9989 - val_loss: 0.0029 - val_accuracy: 0.9994\n",
            "Epoch 16/100\n",
            "445/445 [==============================] - 1s 2ms/step - loss: 0.0038 - accuracy: 0.9991 - val_loss: 0.0030 - val_accuracy: 0.9994\n",
            "Epoch 17/100\n",
            "445/445 [==============================] - 1s 3ms/step - loss: 0.0036 - accuracy: 0.9992 - val_loss: 0.0026 - val_accuracy: 0.9994\n",
            "Epoch 18/100\n",
            "445/445 [==============================] - 2s 4ms/step - loss: 0.0038 - accuracy: 0.9994 - val_loss: 0.0022 - val_accuracy: 0.9994\n",
            "Epoch 19/100\n",
            "445/445 [==============================] - 2s 4ms/step - loss: 0.0040 - accuracy: 0.9994 - val_loss: 0.0030 - val_accuracy: 0.9994\n",
            "Epoch 20/100\n",
            "445/445 [==============================] - 1s 2ms/step - loss: 0.0041 - accuracy: 0.9992 - val_loss: 0.0017 - val_accuracy: 0.9994\n",
            "Epoch 21/100\n",
            "445/445 [==============================] - 1s 3ms/step - loss: 0.0035 - accuracy: 0.9994 - val_loss: 0.0021 - val_accuracy: 0.9994\n",
            "Epoch 22/100\n",
            "445/445 [==============================] - 1s 3ms/step - loss: 0.0033 - accuracy: 0.9993 - val_loss: 0.0021 - val_accuracy: 0.9994\n",
            "Epoch 23/100\n",
            "445/445 [==============================] - 1s 3ms/step - loss: 0.0032 - accuracy: 0.9994 - val_loss: 0.0015 - val_accuracy: 0.9994\n",
            "Epoch 24/100\n",
            "445/445 [==============================] - 1s 2ms/step - loss: 0.0025 - accuracy: 0.9994 - val_loss: 0.0021 - val_accuracy: 0.9994\n",
            "Epoch 25/100\n",
            "445/445 [==============================] - 1s 2ms/step - loss: 0.0034 - accuracy: 0.9994 - val_loss: 0.0017 - val_accuracy: 0.9994\n",
            "Epoch 26/100\n",
            "445/445 [==============================] - 1s 3ms/step - loss: 0.0018 - accuracy: 0.9998 - val_loss: 0.0015 - val_accuracy: 0.9994\n",
            "Epoch 27/100\n",
            "445/445 [==============================] - 1s 2ms/step - loss: 0.0037 - accuracy: 0.9994 - val_loss: 0.0027 - val_accuracy: 0.9994\n",
            "Epoch 28/100\n",
            "445/445 [==============================] - 1s 3ms/step - loss: 0.0025 - accuracy: 0.9996 - val_loss: 0.0010 - val_accuracy: 0.9997\n",
            "Epoch 29/100\n",
            "445/445 [==============================] - 2s 4ms/step - loss: 0.0027 - accuracy: 0.9996 - val_loss: 7.9453e-04 - val_accuracy: 0.9997\n",
            "Epoch 30/100\n",
            "445/445 [==============================] - 1s 3ms/step - loss: 0.0023 - accuracy: 0.9994 - val_loss: 0.0012 - val_accuracy: 0.9994\n",
            "Epoch 31/100\n",
            "445/445 [==============================] - 1s 2ms/step - loss: 0.0024 - accuracy: 0.9996 - val_loss: 0.0011 - val_accuracy: 0.9997\n",
            "Epoch 32/100\n",
            "445/445 [==============================] - 1s 2ms/step - loss: 0.0016 - accuracy: 0.9995 - val_loss: 8.1208e-04 - val_accuracy: 0.9997\n",
            "Epoch 33/100\n",
            "445/445 [==============================] - 1s 2ms/step - loss: 0.0027 - accuracy: 0.9996 - val_loss: 0.0016 - val_accuracy: 0.9994\n",
            "Epoch 34/100\n",
            "445/445 [==============================] - 1s 2ms/step - loss: 0.0013 - accuracy: 0.9999 - val_loss: 0.0012 - val_accuracy: 0.9997\n",
            "Epoch 35/100\n",
            "445/445 [==============================] - 1s 2ms/step - loss: 0.0020 - accuracy: 0.9999 - val_loss: 0.0011 - val_accuracy: 0.9997\n",
            "Epoch 36/100\n",
            "445/445 [==============================] - 1s 3ms/step - loss: 0.0026 - accuracy: 0.9996 - val_loss: 7.5713e-04 - val_accuracy: 0.9997\n",
            "Epoch 37/100\n",
            "445/445 [==============================] - 1s 3ms/step - loss: 0.0022 - accuracy: 0.9995 - val_loss: 0.0013 - val_accuracy: 0.9994\n",
            "Epoch 38/100\n",
            "445/445 [==============================] - 1s 2ms/step - loss: 0.0029 - accuracy: 0.9995 - val_loss: 2.9849e-04 - val_accuracy: 0.9997\n",
            "Epoch 39/100\n",
            "445/445 [==============================] - 1s 2ms/step - loss: 0.0020 - accuracy: 0.9997 - val_loss: 7.3068e-04 - val_accuracy: 0.9997\n",
            "Epoch 40/100\n",
            "445/445 [==============================] - 2s 4ms/step - loss: 0.0022 - accuracy: 0.9996 - val_loss: 5.9848e-04 - val_accuracy: 0.9997\n",
            "Epoch 41/100\n",
            "445/445 [==============================] - 1s 3ms/step - loss: 0.0012 - accuracy: 0.9998 - val_loss: 4.2883e-04 - val_accuracy: 0.9997\n",
            "Epoch 42/100\n",
            "445/445 [==============================] - 1s 3ms/step - loss: 0.0011 - accuracy: 0.9999 - val_loss: 3.1861e-04 - val_accuracy: 0.9997\n",
            "Epoch 43/100\n",
            "445/445 [==============================] - 1s 3ms/step - loss: 0.0022 - accuracy: 0.9996 - val_loss: 5.7659e-04 - val_accuracy: 0.9997\n",
            "Epoch 44/100\n",
            "445/445 [==============================] - 1s 2ms/step - loss: 0.0020 - accuracy: 0.9996 - val_loss: 3.4817e-04 - val_accuracy: 0.9997\n",
            "Epoch 45/100\n",
            "445/445 [==============================] - 1s 2ms/step - loss: 0.0024 - accuracy: 0.9994 - val_loss: 9.9870e-04 - val_accuracy: 0.9997\n",
            "Epoch 46/100\n",
            "445/445 [==============================] - 1s 2ms/step - loss: 0.0016 - accuracy: 0.9998 - val_loss: 6.3933e-04 - val_accuracy: 0.9997\n",
            "Epoch 47/100\n",
            "445/445 [==============================] - 1s 2ms/step - loss: 0.0021 - accuracy: 0.9996 - val_loss: 4.0178e-04 - val_accuracy: 0.9997\n",
            "Epoch 48/100\n",
            "445/445 [==============================] - 1s 2ms/step - loss: 0.0014 - accuracy: 0.9996 - val_loss: 2.0959e-04 - val_accuracy: 1.0000\n",
            "Epoch 49/100\n",
            "445/445 [==============================] - 1s 2ms/step - loss: 0.0012 - accuracy: 0.9998 - val_loss: 2.7603e-04 - val_accuracy: 0.9997\n",
            "Epoch 50/100\n",
            "445/445 [==============================] - 1s 2ms/step - loss: 0.0019 - accuracy: 0.9997 - val_loss: 4.3352e-04 - val_accuracy: 0.9997\n",
            "Epoch 51/100\n",
            "445/445 [==============================] - 2s 3ms/step - loss: 0.0014 - accuracy: 0.9999 - val_loss: 4.3749e-04 - val_accuracy: 0.9997\n",
            "Epoch 52/100\n",
            "445/445 [==============================] - 2s 4ms/step - loss: 0.0015 - accuracy: 0.9999 - val_loss: 3.5543e-04 - val_accuracy: 0.9997\n",
            "Epoch 53/100\n",
            "445/445 [==============================] - 1s 3ms/step - loss: 0.0019 - accuracy: 0.9997 - val_loss: 2.5732e-04 - val_accuracy: 0.9997\n",
            "Epoch 54/100\n",
            "445/445 [==============================] - 1s 2ms/step - loss: 0.0017 - accuracy: 0.9997 - val_loss: 4.1615e-04 - val_accuracy: 0.9997\n",
            "Epoch 55/100\n",
            "445/445 [==============================] - 1s 2ms/step - loss: 0.0023 - accuracy: 0.9996 - val_loss: 7.5214e-05 - val_accuracy: 1.0000\n",
            "Epoch 56/100\n",
            "445/445 [==============================] - 1s 2ms/step - loss: 0.0013 - accuracy: 0.9999 - val_loss: 3.9914e-04 - val_accuracy: 0.9997\n",
            "Epoch 57/100\n",
            "445/445 [==============================] - 1s 2ms/step - loss: 0.0030 - accuracy: 0.9996 - val_loss: 2.2259e-04 - val_accuracy: 0.9997\n",
            "Epoch 58/100\n",
            "445/445 [==============================] - 1s 2ms/step - loss: 0.0012 - accuracy: 0.9998 - val_loss: 1.8813e-04 - val_accuracy: 1.0000\n",
            "Epoch 59/100\n",
            "445/445 [==============================] - 1s 2ms/step - loss: 0.0012 - accuracy: 0.9998 - val_loss: 1.9056e-04 - val_accuracy: 1.0000\n",
            "Epoch 60/100\n",
            "445/445 [==============================] - 1s 2ms/step - loss: 0.0016 - accuracy: 0.9997 - val_loss: 3.6916e-04 - val_accuracy: 0.9997\n",
            "Epoch 61/100\n",
            "445/445 [==============================] - 1s 3ms/step - loss: 8.0219e-04 - accuracy: 0.9999 - val_loss: 4.4175e-05 - val_accuracy: 1.0000\n",
            "Epoch 62/100\n",
            "445/445 [==============================] - 1s 3ms/step - loss: 0.0012 - accuracy: 0.9997 - val_loss: 4.0293e-05 - val_accuracy: 1.0000\n",
            "Epoch 63/100\n",
            "445/445 [==============================] - 1s 3ms/step - loss: 0.0016 - accuracy: 0.9998 - val_loss: 6.0412e-05 - val_accuracy: 1.0000\n",
            "Epoch 64/100\n",
            "445/445 [==============================] - 1s 3ms/step - loss: 0.0015 - accuracy: 0.9994 - val_loss: 8.9576e-05 - val_accuracy: 1.0000\n",
            "Epoch 65/100\n",
            "445/445 [==============================] - 1s 2ms/step - loss: 0.0014 - accuracy: 0.9996 - val_loss: 2.1652e-05 - val_accuracy: 1.0000\n",
            "Epoch 66/100\n",
            "445/445 [==============================] - 1s 2ms/step - loss: 0.0013 - accuracy: 0.9998 - val_loss: 2.1038e-05 - val_accuracy: 1.0000\n",
            "Epoch 67/100\n",
            "445/445 [==============================] - 1s 2ms/step - loss: 0.0016 - accuracy: 0.9998 - val_loss: 2.0506e-05 - val_accuracy: 1.0000\n",
            "Epoch 68/100\n",
            "445/445 [==============================] - 1s 2ms/step - loss: 6.4378e-04 - accuracy: 0.9999 - val_loss: 1.2338e-05 - val_accuracy: 1.0000\n",
            "Epoch 69/100\n",
            "445/445 [==============================] - 1s 2ms/step - loss: 0.0016 - accuracy: 0.9998 - val_loss: 4.7016e-05 - val_accuracy: 1.0000\n",
            "Epoch 70/100\n",
            "445/445 [==============================] - 1s 2ms/step - loss: 6.3697e-04 - accuracy: 0.9999 - val_loss: 8.1972e-05 - val_accuracy: 1.0000\n",
            "Epoch 71/100\n",
            "445/445 [==============================] - 1s 2ms/step - loss: 5.4885e-04 - accuracy: 0.9999 - val_loss: 1.0266e-04 - val_accuracy: 1.0000\n",
            "Epoch 72/100\n",
            "445/445 [==============================] - 1s 2ms/step - loss: 0.0014 - accuracy: 0.9998 - val_loss: 1.7479e-05 - val_accuracy: 1.0000\n",
            "Epoch 73/100\n",
            "445/445 [==============================] - 1s 2ms/step - loss: 0.0025 - accuracy: 0.9997 - val_loss: 3.8532e-05 - val_accuracy: 1.0000\n",
            "Epoch 74/100\n",
            "445/445 [==============================] - 1s 3ms/step - loss: 0.0012 - accuracy: 0.9999 - val_loss: 2.1716e-05 - val_accuracy: 1.0000\n",
            "Epoch 75/100\n",
            "445/445 [==============================] - 2s 3ms/step - loss: 7.5676e-04 - accuracy: 0.9999 - val_loss: 1.1192e-05 - val_accuracy: 1.0000\n",
            "Epoch 76/100\n",
            "445/445 [==============================] - 1s 3ms/step - loss: 0.0011 - accuracy: 0.9998 - val_loss: 1.4696e-05 - val_accuracy: 1.0000\n",
            "Epoch 77/100\n",
            "445/445 [==============================] - 1s 3ms/step - loss: 6.8208e-04 - accuracy: 0.9998 - val_loss: 4.5072e-05 - val_accuracy: 1.0000\n",
            "Epoch 78/100\n",
            "445/445 [==============================] - 1s 2ms/step - loss: 0.0014 - accuracy: 0.9997 - val_loss: 1.2772e-05 - val_accuracy: 1.0000\n",
            "Epoch 79/100\n",
            "445/445 [==============================] - 1s 3ms/step - loss: 0.0020 - accuracy: 0.9995 - val_loss: 1.9486e-05 - val_accuracy: 1.0000\n",
            "Epoch 80/100\n",
            "445/445 [==============================] - 1s 2ms/step - loss: 0.0015 - accuracy: 0.9998 - val_loss: 3.6333e-05 - val_accuracy: 1.0000\n",
            "Epoch 81/100\n",
            "445/445 [==============================] - 1s 2ms/step - loss: 0.0011 - accuracy: 0.9998 - val_loss: 4.3032e-05 - val_accuracy: 1.0000\n",
            "Epoch 82/100\n",
            "445/445 [==============================] - 1s 2ms/step - loss: 7.0522e-04 - accuracy: 0.9999 - val_loss: 9.8164e-06 - val_accuracy: 1.0000\n",
            "Epoch 83/100\n",
            "445/445 [==============================] - 1s 2ms/step - loss: 9.1806e-04 - accuracy: 0.9999 - val_loss: 2.9371e-05 - val_accuracy: 1.0000\n",
            "Epoch 84/100\n",
            "445/445 [==============================] - 1s 3ms/step - loss: 8.7355e-04 - accuracy: 0.9999 - val_loss: 2.0898e-05 - val_accuracy: 1.0000\n",
            "Epoch 85/100\n",
            "445/445 [==============================] - 1s 3ms/step - loss: 0.0020 - accuracy: 0.9998 - val_loss: 3.7777e-05 - val_accuracy: 1.0000\n",
            "Epoch 86/100\n",
            "445/445 [==============================] - 2s 3ms/step - loss: 8.6647e-04 - accuracy: 0.9999 - val_loss: 1.2659e-05 - val_accuracy: 1.0000\n",
            "Epoch 87/100\n",
            "445/445 [==============================] - 1s 3ms/step - loss: 0.0011 - accuracy: 0.9997 - val_loss: 1.1075e-05 - val_accuracy: 1.0000\n",
            "Epoch 88/100\n",
            "445/445 [==============================] - 1s 2ms/step - loss: 0.0013 - accuracy: 0.9997 - val_loss: 2.8589e-05 - val_accuracy: 1.0000\n",
            "Epoch 89/100\n",
            "445/445 [==============================] - 1s 2ms/step - loss: 5.5347e-04 - accuracy: 0.9999 - val_loss: 6.6220e-05 - val_accuracy: 1.0000\n",
            "Epoch 90/100\n",
            "445/445 [==============================] - 1s 2ms/step - loss: 0.0014 - accuracy: 0.9998 - val_loss: 1.9814e-05 - val_accuracy: 1.0000\n",
            "Epoch 91/100\n",
            "445/445 [==============================] - 1s 2ms/step - loss: 0.0012 - accuracy: 0.9999 - val_loss: 1.0872e-05 - val_accuracy: 1.0000\n",
            "Epoch 92/100\n",
            "445/445 [==============================] - 1s 3ms/step - loss: 4.8046e-04 - accuracy: 0.9999 - val_loss: 1.0069e-05 - val_accuracy: 1.0000\n",
            "Epoch 92: early stopping\n"
          ]
        }
      ]
    },
    {
      "cell_type": "markdown",
      "metadata": {
        "id": "NUDPvaJE1wRE"
      },
      "source": [
        "## Verify \n",
        "\n",
        "Graph the models performance vs validation.\n"
      ]
    },
    {
      "cell_type": "markdown",
      "metadata": {
        "id": "kxA0zCOaS35v"
      },
      "source": [
        "### Graph the loss\n",
        "\n",
        "Graph the loss to see when the model stops improving."
      ]
    },
    {
      "cell_type": "code",
      "metadata": {
        "id": "bvFNHXoQzmcM",
        "colab": {
          "base_uri": "https://localhost:8080/",
          "height": 393
        },
        "outputId": "c01dfb80-fe2d-4589-cc86-e6aa66ee5822"
      },
      "source": [
        "# increase the size of the graphs. The default size is (6,4).\n",
        "plt.rcParams[\"figure.figsize\"] = (20,10)\n",
        "\n",
        "# graph the loss, the model above is configure to use \"mean squared error\" as the loss function\n",
        "loss = history.history['loss']\n",
        "val_loss = history.history['val_loss']\n",
        "epochs = range(1, len(loss) + 1)\n",
        "plt.plot(epochs, loss, 'g.', label='Training loss')\n",
        "plt.plot(epochs, val_loss, 'b', label='Validation loss')\n",
        "plt.title('Training and validation loss')\n",
        "plt.xlabel('Epochs')\n",
        "plt.ylabel('Loss')\n",
        "plt.legend()\n",
        "plt.show()\n",
        "\n",
        "print(plt.rcParams[\"figure.figsize\"])"
      ],
      "execution_count": 9,
      "outputs": [
        {
          "output_type": "display_data",
          "data": {
            "text/plain": [
              "<Figure size 2000x1000 with 1 Axes>"
            ],
            "image/png": "[encoded data removed]"
          },
          "metadata": {}
        },
        {
          "output_type": "stream",
          "name": "stdout",
          "text": [
            "[20.0, 10.0]\n"
          ]
        }
      ]
    },
    {
      "cell_type": "markdown",
      "metadata": {
        "id": "DG3m-VpE1zOd"
      },
      "source": [
        "### Graph the loss again, skipping a bit of the start\n",
        "\n",
        "We'll graph the same data as the previous code cell, but start at index 100 so we can further zoom in once the model starts to converge."
      ]
    },
    {
      "cell_type": "code",
      "metadata": {
        "id": "c3xT7ue2zovd",
        "colab": {
          "base_uri": "https://localhost:8080/",
          "height": 373
        },
        "outputId": "e8fd3dd6-d57f-41e9-ca95-f6a1008bf7e4"
      },
      "source": [
        "# graph the loss again skipping a bit of the start\n",
        "SKIP = 100\n",
        "plt.plot(epochs[SKIP:], loss[SKIP:], 'g.', label='Training loss')\n",
        "plt.plot(epochs[SKIP:], val_loss[SKIP:], 'b.', label='Validation loss')\n",
        "plt.title('Training and validation loss')\n",
        "plt.xlabel('Epochs')\n",
        "plt.ylabel('Loss')\n",
        "plt.legend()\n",
        "plt.show()"
      ],
      "execution_count": 10,
      "outputs": [
        {
          "output_type": "display_data",
          "data": {
            "text/plain": [
              "<Figure size 2000x1000 with 1 Axes>"
            ],
            "image/png": "[encoded data removed]"
          },
          "metadata": {}
        }
      ]
    },
    {
      "cell_type": "markdown",
      "metadata": {
        "id": "CRjvkFQy2RgS"
      },
      "source": [
        "### Graph the mean absolute error\n",
        "\n",
        "[Mean absolute error](https://en.wikipedia.org/wiki/Mean_absolute_error) is another metric to judge the performance of the model.\n",
        "\n"
      ]
    },
    {
      "cell_type": "code",
      "metadata": {
        "id": "mBjCf1-2zx9C",
        "colab": {
          "base_uri": "https://localhost:8080/",
          "height": 232
        },
        "outputId": "8c6a307f-b4b2-4b6e-ec3f-24a732dad361"
      },
      "source": [
        "# graph of mean absolute error\n",
        "mae = history.history['mae']\n",
        "val_mae = history.history['val_mae']\n",
        "plt.plot(epochs[SKIP:], mae[SKIP:], 'g.', label='Training MAE')\n",
        "plt.plot(epochs[SKIP:], val_mae[SKIP:], 'b.', label='Validation MAE')\n",
        "plt.title('Training and validation mean absolute error')\n",
        "plt.xlabel('Epochs')\n",
        "plt.ylabel('MAE')\n",
        "plt.legend()\n",
        "plt.show()\n"
      ],
      "execution_count": 11,
      "outputs": [
        {
          "output_type": "error",
          "ename": "KeyError",
          "evalue": "ignored",
          "traceback": [
            "\u001b[0;31m---------------------------------------------------------------------------\u001b[0m",
            "\u001b[0;31mKeyError\u001b[0m                                  Traceback (most recent call last)",
            "\u001b[0;32m<ipython-input-11-d5d702680853>\u001b[0m in \u001b[0;36m<cell line: 2>\u001b[0;34m()\u001b[0m\n\u001b[1;32m      1\u001b[0m \u001b[0;31m# graph of mean absolute error\u001b[0m\u001b[0;34m\u001b[0m\u001b[0;34m\u001b[0m\u001b[0m\n\u001b[0;32m----> 2\u001b[0;31m \u001b[0mmae\u001b[0m \u001b[0;34m=\u001b[0m \u001b[0mhistory\u001b[0m\u001b[0;34m.\u001b[0m\u001b[0mhistory\u001b[0m\u001b[0;34m[\u001b[0m\u001b[0;34m'mae'\u001b[0m\u001b[0;34m]\u001b[0m\u001b[0;34m\u001b[0m\u001b[0;34m\u001b[0m\u001b[0m\n\u001b[0m\u001b[1;32m      3\u001b[0m \u001b[0mval_mae\u001b[0m \u001b[0;34m=\u001b[0m \u001b[0mhistory\u001b[0m\u001b[0;34m.\u001b[0m\u001b[0mhistory\u001b[0m\u001b[0;34m[\u001b[0m\u001b[0;34m'val_mae'\u001b[0m\u001b[0;34m]\u001b[0m\u001b[0;34m\u001b[0m\u001b[0;34m\u001b[0m\u001b[0m\n\u001b[1;32m      4\u001b[0m \u001b[0mplt\u001b[0m\u001b[0;34m.\u001b[0m\u001b[0mplot\u001b[0m\u001b[0;34m(\u001b[0m\u001b[0mepochs\u001b[0m\u001b[0;34m[\u001b[0m\u001b[0mSKIP\u001b[0m\u001b[0;34m:\u001b[0m\u001b[0;34m]\u001b[0m\u001b[0;34m,\u001b[0m \u001b[0mmae\u001b[0m\u001b[0;34m[\u001b[0m\u001b[0mSKIP\u001b[0m\u001b[0;34m:\u001b[0m\u001b[0;34m]\u001b[0m\u001b[0;34m,\u001b[0m \u001b[0;34m'g.'\u001b[0m\u001b[0;34m,\u001b[0m \u001b[0mlabel\u001b[0m\u001b[0;34m=\u001b[0m\u001b[0;34m'Training MAE'\u001b[0m\u001b[0;34m)\u001b[0m\u001b[0;34m\u001b[0m\u001b[0;34m\u001b[0m\u001b[0m\n\u001b[1;32m      5\u001b[0m \u001b[0mplt\u001b[0m\u001b[0;34m.\u001b[0m\u001b[0mplot\u001b[0m\u001b[0;34m(\u001b[0m\u001b[0mepochs\u001b[0m\u001b[0;34m[\u001b[0m\u001b[0mSKIP\u001b[0m\u001b[0;34m:\u001b[0m\u001b[0;34m]\u001b[0m\u001b[0;34m,\u001b[0m \u001b[0mval_mae\u001b[0m\u001b[0;34m[\u001b[0m\u001b[0mSKIP\u001b[0m\u001b[0;34m:\u001b[0m\u001b[0;34m]\u001b[0m\u001b[0;34m,\u001b[0m \u001b[0;34m'b.'\u001b[0m\u001b[0;34m,\u001b[0m \u001b[0mlabel\u001b[0m\u001b[0;34m=\u001b[0m\u001b[0;34m'Validation MAE'\u001b[0m\u001b[0;34m)\u001b[0m\u001b[0;34m\u001b[0m\u001b[0;34m\u001b[0m\u001b[0m\n",
            "\u001b[0;31mKeyError\u001b[0m: 'mae'"
          ]
        }
      ]
    },
    {
      "cell_type": "markdown",
      "metadata": {
        "id": "guMjtfa42ahM"
      },
      "source": [
        "### Run with Test Data\n",
        "Put our test data into the model and plot the predictions\n"
      ]
    },
    {
      "cell_type": "code",
      "metadata": {
        "id": "V3Y0CCWJz2EK",
        "colab": {
          "base_uri": "https://localhost:8080/",
          "height": 385
        },
        "outputId": "282b6b9e-0e61-4893-974e-cd1de047b4f4"
      },
      "source": [
        "# use the model to predict the test inputs\n",
        "predictions = model.predict(X_test_scaled)\n",
        "\n",
        "# print the predictions and the expected ouputs\n",
        "print(\"predictions =\\n\", np.round(predictions, decimals=3))\n",
        "print(\"actual =\\n\", outputs_test)\n",
        "\n",
        "# Plot the predictions along with to the test data\n",
        "plt.clf()\n",
        "plt.title('Training data predicted vs actual values')\n",
        "plt.plot(inputs_test, outputs_test, 'b.', label='Actual')\n",
        "plt.plot(inputs_test, predictions, 'r.', label='Predicted')\n",
        "plt.show()"
      ],
      "execution_count": 12,
      "outputs": [
        {
          "output_type": "stream",
          "name": "stdout",
          "text": [
            "112/112 [==============================] - 0s 1ms/step\n",
            "predictions =\n",
            " [[0. 0. 1.]\n",
            " [0. 0. 1.]\n",
            " [0. 1. 0.]\n",
            " ...\n",
            " [0. 0. 1.]\n",
            " [0. 1. 0.]\n",
            " [0. 1. 0.]]\n"
          ]
        },
        {
          "output_type": "error",
          "ename": "NameError",
          "evalue": "ignored",
          "traceback": [
            "\u001b[0;31m---------------------------------------------------------------------------\u001b[0m",
            "\u001b[0;31mNameError\u001b[0m                                 Traceback (most recent call last)",
            "\u001b[0;32m<ipython-input-12-b52b16487038>\u001b[0m in \u001b[0;36m<cell line: 6>\u001b[0;34m()\u001b[0m\n\u001b[1;32m      4\u001b[0m \u001b[0;31m# print the predictions and the expected ouputs\u001b[0m\u001b[0;34m\u001b[0m\u001b[0;34m\u001b[0m\u001b[0m\n\u001b[1;32m      5\u001b[0m \u001b[0mprint\u001b[0m\u001b[0;34m(\u001b[0m\u001b[0;34m\"predictions =\\n\"\u001b[0m\u001b[0;34m,\u001b[0m \u001b[0mnp\u001b[0m\u001b[0;34m.\u001b[0m\u001b[0mround\u001b[0m\u001b[0;34m(\u001b[0m\u001b[0mpredictions\u001b[0m\u001b[0;34m,\u001b[0m \u001b[0mdecimals\u001b[0m\u001b[0;34m=\u001b[0m\u001b[0;36m3\u001b[0m\u001b[0;34m)\u001b[0m\u001b[0;34m)\u001b[0m\u001b[0;34m\u001b[0m\u001b[0;34m\u001b[0m\u001b[0m\n\u001b[0;32m----> 6\u001b[0;31m \u001b[0mprint\u001b[0m\u001b[0;34m(\u001b[0m\u001b[0;34m\"actual =\\n\"\u001b[0m\u001b[0;34m,\u001b[0m \u001b[0moutputs_test\u001b[0m\u001b[0;34m)\u001b[0m\u001b[0;34m\u001b[0m\u001b[0;34m\u001b[0m\u001b[0m\n\u001b[0m\u001b[1;32m      7\u001b[0m \u001b[0;34m\u001b[0m\u001b[0m\n\u001b[1;32m      8\u001b[0m \u001b[0;31m# Plot the predictions along with to the test data\u001b[0m\u001b[0;34m\u001b[0m\u001b[0;34m\u001b[0m\u001b[0m\n",
            "\u001b[0;31mNameError\u001b[0m: name 'outputs_test' is not defined"
          ]
        }
      ]
    },
    {
      "cell_type": "markdown",
      "metadata": {
        "id": "j7DO6xxXVCym"
      },
      "source": [
        "# Convert the Trained Model to Tensor Flow Lite\n",
        "\n",
        "The next cell converts the model to TFlite format. The size in bytes of the model is also printed out."
      ]
    },
    {
      "cell_type": "code",
      "metadata": {
        "id": "0Xn1-Rn9Cp_8",
        "colab": {
          "base_uri": "https://localhost:8080/"
        },
        "outputId": "e1325049-5c96-4a40-9873-b3f2642600f3"
      },
      "source": [
        "import tensorflow as tf\n",
        "# Convert the model to the TensorFlow Lite format without quantization\n",
        "converter = tf.lite.TFLiteConverter.from_keras_model(model)\n",
        "tflite_model = converter.convert()\n",
        "\n",
        "# Save the model to disk\n",
        "open(\"gesture_model.tflite\", \"wb\").write(tflite_model)\n",
        "  \n",
        "import os\n",
        "basic_model_size = os.path.getsize(\"gesture_model.tflite\")\n",
        "print(\"Model is %d bytes\" % basic_model_size)\n",
        "  \n",
        "  "
      ],
      "execution_count": 14,
      "outputs": [
        {
          "output_type": "stream",
          "name": "stderr",
          "text": [
            "WARNING:absl:Found untraced functions such as _update_step_xla while saving (showing 1 of 1). These functions will not be directly callable after loading.\n"
          ]
        },
        {
          "output_type": "stream",
          "name": "stdout",
          "text": [
            "Model is 5304 bytes\n"
          ]
        }
      ]
    },
    {
      "cell_type": "markdown",
      "metadata": {
        "id": "ykccQn7SXrUX"
      },
      "source": [
        "## Encode the Model in an Arduino Header File \n",
        "\n",
        "The next cell creates a constant byte array that contains the TFlite model. Import it as a tab with the sketch below."
      ]
    },
    {
      "cell_type": "code",
      "metadata": {
        "id": "9J33uwpNtAku",
        "colab": {
          "base_uri": "https://localhost:8080/"
        },
        "outputId": "88394e9f-219c-43b1-d2da-268595449f17"
      },
      "source": [
        "!echo \"const unsigned char model[] = {\" > /content/model.h\n",
        "!cat gesture_model.tflite | xxd -i      >> /content/model.h\n",
        "!echo \"};\"                              >> /content/model.h\n",
        "\n",
        "import os\n",
        "model_h_size = os.path.getsize(\"model.h\")\n",
        "print(f\"Header file, model.h, is {model_h_size:,} bytes.\")\n",
        "print(\"\\nOpen the side panel (refresh if needed). Double click model.h to download the file.\")"
      ],
      "execution_count": 15,
      "outputs": [
        {
          "output_type": "stream",
          "name": "stdout",
          "text": [
            "Header file, model.h, is 32,742 bytes.\n",
            "\n",
            "Open the side panel (refresh if needed). Double click model.h to download the file.\n"
          ]
        }
      ]
    },
    {
      "cell_type": "markdown",
      "metadata": {
        "id": "1eSkHZaLzMId"
      },
      "source": [
        "# Classifying IMU Data\n",
        "\n",
        "Now it's time to switch back to the tutorial instructions and run our new model on the Arduino Nano 33 BLE Sense to classify the accelerometer and gyroscope data.\n"
      ]
    }
  ]
}